{
  "cells": [
    {
      "cell_type": "code",
      "execution_count": 6,
      "id": "e4b45917",
      "metadata": {
        "colab": {
          "base_uri": "https://localhost:8080/"
        },
        "id": "e4b45917",
        "outputId": "98f0344f-b9fa-47dc-9a27-bf224e2035b9"
      },
      "outputs": [
        {
          "output_type": "stream",
          "name": "stdout",
          "text": [
            "t-statistic: 1.7920318220177764\n",
            "p-value: 0.11089488733773724\n",
            "Between groups, there is no discernible variation in weight.\n"
          ]
        }
      ],
      "source": [
        "import pandas as pd\n",
        "import scipy.stats as stats\n",
        "\n",
        "data = pd.read_csv(\"/content/d2.csv\")\n",
        "\n",
        "\n",
        "W_0 = data[data['Frailty'] == 'Y']['Weight']\n",
        "W_1 = data[data['Frailty'] == 'N']['Weight']\n",
        "\n",
        "t_0, p_0 = stats.ttest_ind(W_0, W_1)\n",
        "\n",
        "\n",
        "print(\"t-statistic:\", t_0)\n",
        "print(\"p-value:\", p_0)\n",
        "\n",
        "alpha = 0.05\n",
        "if p_0 < alpha:\n",
        "    print(\"Between groups, there is a considerable difference in weight.\")\n",
        "else:\n",
        "    print(\"Between groups, there is no discernible variation in weight.\")\n"
      ]
    },
    {
      "cell_type": "code",
      "execution_count": null,
      "id": "1b6086a4",
      "metadata": {
        "id": "1b6086a4"
      },
      "outputs": [],
      "source": []
    }
  ],
  "metadata": {
    "kernelspec": {
      "display_name": "Python 3 (ipykernel)",
      "language": "python",
      "name": "python3"
    },
    "language_info": {
      "codemirror_mode": {
        "name": "ipython",
        "version": 3
      },
      "file_extension": ".py",
      "mimetype": "text/x-python",
      "name": "python",
      "nbconvert_exporter": "python",
      "pygments_lexer": "ipython3",
      "version": "3.7.0"
    },
    "colab": {
      "provenance": []
    }
  },
  "nbformat": 4,
  "nbformat_minor": 5
}